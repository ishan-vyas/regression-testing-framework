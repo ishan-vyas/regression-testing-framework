{
 "cells": [
  {
   "cell_type": "code",
   "execution_count": 1,
   "metadata": {},
   "outputs": [],
   "source": [
    "# Name: Ishan Vyas\n",
    "# UCID: 30068270\n",
    "# Course: CPSC 502.06\n",
    "# Project: Regression testing for machine learning classifiers\n",
    "# Supervisor: Dr. Frank Maurer\n",
    "\n",
    "# Testing framework using Metamorphic testing and caching based around the diabetes dataset\n",
    "\n",
    "# This framework/guide is to understand how to regression test machine learning classifiers."
   ]
  },
  {
   "cell_type": "code",
   "execution_count": 26,
   "metadata": {},
   "outputs": [],
   "source": [
    "# Import statements\n",
    "import pytest\n",
    "import time \n",
    "import random\n",
    "from functools import lru_cache\n",
    "from hashdf import HashableDataFrame\n",
    "\n",
    "import numpy as np\n",
    "import Simple_Diabetes_Predictor\n",
    "from sklearn.model_selection import train_test_split\n",
    "from sklearn.model_selection import cross_val_score\n",
    "from sklearn.neighbors import KNeighborsClassifier"
   ]
  },
  {
   "cell_type": "code",
   "execution_count": 3,
   "metadata": {},
   "outputs": [
    {
     "name": "stdout",
     "output_type": "stream",
     "text": [
      "0.02315497398376465\n"
     ]
    }
   ],
   "source": [
    "# This time shows the time it takes to train a model and then access it if its not cached\n",
    "start = time.time()\n",
    "modelNotCache = Simple_Diabetes_Predictor.getModel(Simple_Diabetes_Predictor.df_hash, Simple_Diabetes_Predictor.K)\n",
    "end = time.time()\n",
    "print(end - start)"
   ]
  },
  {
   "cell_type": "code",
   "execution_count": 4,
   "metadata": {},
   "outputs": [],
   "source": [
    "# Caching the model in memory\n",
    "@lru_cache(maxsize=None)\n",
    "def getModel(db, K):\n",
    "    data = db.loc[:, db.columns != 'Outcome']\n",
    "    labels = db.loc[:, db.columns == 'Outcome']\n",
    "    \n",
    "    X_train, X_test, y_train, y_test = train_test_split(data, labels.values.ravel(), test_size=0.25, random_state=1)\n",
    "\n",
    "    neigh = KNeighborsClassifier(n_neighbors=K)  \n",
    "    neigh.fit(X_train, y_train)\n",
    "\n",
    "    Initial = neigh.predict(X_test)\n",
    "    return neigh, Initial"
   ]
  },
  {
   "cell_type": "code",
   "execution_count": 27,
   "metadata": {},
   "outputs": [
    {
     "name": "stdout",
     "output_type": "stream",
     "text": [
      "0.0018279552459716797\n"
     ]
    }
   ],
   "source": [
    "# This time shows the time it takes to access the cached model\n",
    "start = time.time()\n",
    "modelCache = getModel(Simple_Diabetes_Predictor.df_hash, Simple_Diabetes_Predictor.K)\n",
    "end = time.time()\n",
    "print(end - start)"
   ]
  },
  {
   "cell_type": "code",
   "execution_count": 6,
   "metadata": {},
   "outputs": [],
   "source": [
    "# Implementation of the metamorphic testing \n",
    "# Metamorphic Relations Helper Functions\n",
    "def affineTransform(x):\n",
    "    return (2*x + 1)"
   ]
  },
  {
   "cell_type": "code",
   "execution_count": 7,
   "metadata": {},
   "outputs": [],
   "source": [
    "# Transform the dataset and apply the transformations to the incoming input\n",
    "def transform_db(dataset):\n",
    "    transformed_db = dataset.copy()\n",
    "    \n",
    "    # Applying affine transformation\n",
    "    for column in transformed_db:\n",
    "        if column != \"Outcome\":\n",
    "            transformed_db[column] = transformed_db[column].apply(affineTransform)\n",
    "            \n",
    "    # Applying duplicating columns\n",
    "    for column in transformed_db:\n",
    "        if column != \"Outcome\":\n",
    "            transformed_db[column+\"*\"] = transformed_db[column]\n",
    "            \n",
    "    # Applying uninformative variable \n",
    "    transformed_db['UninformativeVariable']=1\n",
    "            \n",
    "    # Permutation of columns\n",
    "    list_columns = list(transformed_db.columns.values)\n",
    "    random.shuffle(list_columns)\n",
    "    transformed_db = transformed_db.reindex(columns=list_columns)\n",
    "    \n",
    "    # Consistence with re-prediction\n",
    "        \n",
    "    return transformed_db"
   ]
  },
  {
   "cell_type": "code",
   "execution_count": 31,
   "metadata": {},
   "outputs": [],
   "source": [
    "# Train the model on the transformed input\n",
    "@lru_cache(maxsize=None)\n",
    "def getTransformedModel(dataset, K):\n",
    "    data1 = dataset.loc[:, dataset.columns != 'Outcome']\n",
    "    labels1 = dataset.loc[:, dataset.columns == 'Outcome']\n",
    "    \n",
    "    X_train, X_test, y_train, y_test = train_test_split(data1, labels1.values.ravel(), test_size=0.25, random_state=1)\n",
    "\n",
    "    neigh = KNeighborsClassifier(n_neighbors=K)  \n",
    "    neigh.fit(X_train, y_train)\n",
    "\n",
    "    New = neigh.predict(X_test)\n",
    "    \n",
    "    return neigh, New, X_test"
   ]
  },
  {
   "cell_type": "code",
   "execution_count": 32,
   "metadata": {},
   "outputs": [],
   "source": [
    "# Transform the dataset\n",
    "df_transformed = transform_db(Simple_Diabetes_Predictor.df_hash)\n",
    "df_hashableT = HashableDataFrame(df_transformed)"
   ]
  },
  {
   "cell_type": "code",
   "execution_count": 33,
   "metadata": {},
   "outputs": [],
   "source": [
    "# Gets the column order of the transformed data set\n",
    "columnOrder = list(df_hashableT.columns)\n",
    "columnOrder.remove('Outcome')\n",
    "\n",
    "# Pre established test cases with known output\n",
    "examplesInput_df = [[7, 136, 74, 26, 135, 26.0, 0.647, 51],\n",
    "               [1, 85, 66, 29, 0, 26.6, 0.351, 31],\n",
    "               [10, 101, 76, 48, 180, 32.9, 0.171, 63],\n",
    "               [0, 198, 66, 32, 274, 41.3, 0.502, 28],\n",
    "               [5, 122, 86, 0, 0, 34.7, 0.290, 33]]\n",
    "\n",
    "# Known outputs for the test cases established\n",
    "examplesOutput_df = np.array([1,0,0,1,0])\n",
    "\n",
    "# Transformation of the example input to fit the prediction format.\n",
    "def transfromExample():\n",
    "    transformedExamples_df = []\n",
    "    k = 0\n",
    "    for i in range(0,len(examplesInput_df)):\n",
    "        transformedExamples_df.append([])\n",
    "        # Needs to be dynamic\n",
    "        preg = affineTransform(examplesInput_df[i][0])\n",
    "        glu = affineTransform(examplesInput_df[i][1])\n",
    "        bp = affineTransform(examplesInput_df[i][2])\n",
    "        st = affineTransform(examplesInput_df[i][3])\n",
    "        ins = affineTransform(examplesInput_df[i][4])\n",
    "        bmi = affineTransform(examplesInput_df[i][5])\n",
    "        dpf = affineTransform(examplesInput_df[i][6])\n",
    "        age = affineTransform(examplesInput_df[i][7])\n",
    "        uv = 1\n",
    "        transformedOrderMap = {\n",
    "            'Pregnancies' : preg,\n",
    "            'Pregnancies*' : preg,\n",
    "            'Glucose' : glu,\n",
    "            'Glucose*' : glu,\n",
    "            'BloodPressure' : bp,\n",
    "            'BloodPressure*' : bp,\n",
    "            'SkinThickness' : st,\n",
    "            'SkinThickness*' : st,\n",
    "            'Insulin' : ins,\n",
    "            'Insulin*' : ins,\n",
    "            'BMI' : bmi,\n",
    "            'BMI*' : bmi,\n",
    "            'DiabetesPedigreeFunction':dpf,\n",
    "            'DiabetesPedigreeFunction*':dpf,\n",
    "            'Age':age,\n",
    "            'Age*':age,\n",
    "            'UninformativeVariable':uv\n",
    "        }\n",
    "        for k in columnOrder:\n",
    "            transformedExamples_df[i].append(transformedOrderMap[k])\n",
    "    return transformedExamples_df\n",
    "\n",
    "transfromedExamplesInput_df = transfromExample()"
   ]
  },
  {
   "cell_type": "code",
   "execution_count": 11,
   "metadata": {},
   "outputs": [],
   "source": [
    "# This is a pytest to perform metamorphic testing on the classifer\n",
    "# It allows us to check the correctness of the algorithm\n",
    "# We compare the test results of the original model against the transformed model \n",
    "# Both the transfromed model and original model should be identical as the metamorphic relations shouldn't\n",
    "    # change the the classifier at all, if there is a difference, there might be an issue within\n",
    "    # the algorithm.\n",
    "def test_model(original, transformed):\n",
    "    print(original.all() == transformed.all())\n",
    "    assert original.all() == transformed.all()"
   ]
  },
  {
   "cell_type": "code",
   "execution_count": 34,
   "metadata": {},
   "outputs": [],
   "source": [
    "# This is a pytest to perform metamorphic testing on the classifier \n",
    "# It allows us to check the correctness of the algorithm\n",
    "# We compare the prediction results of the original model and the transformed model\n",
    "# Both the transfromed model and original model should be identical as the metamorphic relations shouldn't\n",
    "    # change the the classifier at all, if there is a difference, there might be an issue within\n",
    "    # the algorithm.\n",
    "def test_model_prediction(original, transformed):\n",
    "    print(original.predict(examplesInput_df).all() == transformed.predict(transfromedExamplesInput_df).all())\n",
    "    assert original.predict(examplesInput_df).all() == transformed.predict(transfromedExamplesInput_df).all()"
   ]
  },
  {
   "cell_type": "code",
   "execution_count": 35,
   "metadata": {},
   "outputs": [],
   "source": [
    "# This is a pytest to perform regression testing on the classifier \n",
    "# It allows us to compare if the new model is behaving the same on the example inputs as the old model\n",
    "# We compare the prediction results of the original model and the new model on the example inputs\n",
    "# Both the new model and original model should ideally behave the same way as we are counting on its predictabliity\n",
    "    # if the results are different the tester should be informed, telling them to either update the testcase or look\n",
    "    # further into the issue\n",
    "def modelUnitTest(original, new):\n",
    "    print(\"These are the original input results: \", original.predict(examplesInput_df))\n",
    "    print(\"These are the new input results: \", new.predict(examplesInput_df))\n",
    "    # expected output compared to new model \n",
    "    print(original.predict(examplesInput_df).all() == new.predict(examplesInput_df).all())\n",
    "    assert original.predict(examplesInput_df).all() == new.predict(examplesInput_df).all()"
   ]
  },
  {
   "cell_type": "code",
   "execution_count": 14,
   "metadata": {},
   "outputs": [],
   "source": [
    "# This is a pytest to perform regression testing on the classifier \n",
    "# It allows us to regression test the new model by ensuring it has the same results on the example input as\n",
    "    # the predefined example input's output\n",
    "# We compare the example input's output to the output generated by the new model\n",
    "# The results should ideally be the same, if not then the tester should be informed about the change in behavior\n",
    "def unitTest(new):\n",
    "    print(\"These are the example output results: \", examplesOutput_df)\n",
    "    print(\"These are the model input results: \", new.predict(examplesInput_df))\n",
    "    # expected output compared to new model \n",
    "    print(examplesOutput_df.all() == new.predict(examplesInput_df).all())\n",
    "    assert examplesOutput_df.all() == new.predict(examplesInput_df).all()"
   ]
  },
  {
   "cell_type": "code",
   "execution_count": 15,
   "metadata": {},
   "outputs": [],
   "source": [
    "# Testing Cycle\n",
    "# First check the correctness of the model \n",
    "# We do this using metamorphic testing"
   ]
  },
  {
   "cell_type": "code",
   "execution_count": 16,
   "metadata": {},
   "outputs": [
    {
     "name": "stdout",
     "output_type": "stream",
     "text": [
      "0.009830951690673828\n"
     ]
    }
   ],
   "source": [
    "# Access the original model from the cache\n",
    "# The time shows the access time\n",
    "start = time.time()\n",
    "originalModel = getModel(Simple_Diabetes_Predictor.df_hash, Simple_Diabetes_Predictor.K)\n",
    "end = time.time()\n",
    "print(end - start)"
   ]
  },
  {
   "cell_type": "code",
   "execution_count": 17,
   "metadata": {},
   "outputs": [],
   "source": [
    "# Transform the incoming dataset according to the metamorphic relations\n",
    "transformed_df = transform_db(Simple_Diabetes_Predictor.df)\n",
    "df_hashableT = HashableDataFrame(transformed_df)"
   ]
  },
  {
   "cell_type": "code",
   "execution_count": 37,
   "metadata": {},
   "outputs": [
    {
     "name": "stdout",
     "output_type": "stream",
     "text": [
      "0.0035200119018554688\n"
     ]
    }
   ],
   "source": [
    "# Access the transformed model from the cache\n",
    "# The time shows the access time\n",
    "start = time.time()\n",
    "transformedModel = getTransformedModel(df_hashableT, Simple_Diabetes_Predictor.K) \n",
    "end = time.time()\n",
    "print(end - start)"
   ]
  },
  {
   "cell_type": "code",
   "execution_count": 38,
   "metadata": {},
   "outputs": [
    {
     "name": "stdout",
     "output_type": "stream",
     "text": [
      "True\n",
      "None\n"
     ]
    }
   ],
   "source": [
    "# Test the correctness of the algorithm using metamorphic testing\n",
    "# Compare the test results of the original model and the transformed model\n",
    "# The classifiers should be identical therefore the results should be the same\n",
    "print(test_model(originalModel[1],transformedModel[1]))"
   ]
  },
  {
   "cell_type": "code",
   "execution_count": 39,
   "metadata": {},
   "outputs": [
    {
     "name": "stdout",
     "output_type": "stream",
     "text": [
      "True\n",
      "None\n"
     ]
    }
   ],
   "source": [
    "# Test the correctness of the algorithm using metamorphic testing\n",
    "# Compare the predictions of the original model and the transformed model\n",
    "# The classifiers should be identical therefore the results should be the same\n",
    "print(test_model_prediction(originalModel[0],transformedModel[0]))"
   ]
  },
  {
   "cell_type": "code",
   "execution_count": 21,
   "metadata": {},
   "outputs": [],
   "source": [
    "# Regression Testing Example\n",
    "# New data is added, resulting in a new model\n",
    "    # We want to compare the new model to the old model and see if it behaves the same on the key example inputs\n",
    "    \n",
    "# Copy the first rows of the dataframe\n",
    "df_addition = Simple_Diabetes_Predictor.df[0:50].copy()\n",
    "\n",
    "# Add it to the new databae and transform the new database as well\n",
    "new_df = Simple_Diabetes_Predictor.df.append(df_addition)\n",
    "\n",
    "# Turn it to a hashable dataset\n",
    "df_hashableNew = HashableDataFrame(new_df)"
   ]
  },
  {
   "cell_type": "code",
   "execution_count": 22,
   "metadata": {},
   "outputs": [
    {
     "name": "stdout",
     "output_type": "stream",
     "text": [
      "0.00669097900390625\n"
     ]
    }
   ],
   "source": [
    "# Access the old model from the cache\n",
    "# The time shows the access time\n",
    "start = time.time()\n",
    "oldModel = getModel(Simple_Diabetes_Predictor.df_hash, Simple_Diabetes_Predictor.K)\n",
    "end = time.time()\n",
    "print(end - start)"
   ]
  },
  {
   "cell_type": "code",
   "execution_count": 40,
   "metadata": {},
   "outputs": [
    {
     "name": "stdout",
     "output_type": "stream",
     "text": [
      "0.002099275588989258\n"
     ]
    }
   ],
   "source": [
    "# Train the new model, store it in cache and access the new model from the cache\n",
    "# The time shows the access time\n",
    "start = time.time()\n",
    "newModel = getModel(df_hashableNew, Simple_Diabetes_Predictor.K)\n",
    "end = time.time()\n",
    "print(end - start)"
   ]
  },
  {
   "cell_type": "code",
   "execution_count": 24,
   "metadata": {},
   "outputs": [
    {
     "name": "stdout",
     "output_type": "stream",
     "text": [
      "These are the original input results:  [1 0 0 1 0]\n",
      "These are the new input results:  [1 0 0 1 0]\n",
      "True\n",
      "None\n"
     ]
    }
   ],
   "source": [
    "# Test if the two models are behaving the same way\n",
    "# Compare the results on the example input for both the models\n",
    "print(modelUnitTest(oldModel[0],newModel[0]))"
   ]
  },
  {
   "cell_type": "code",
   "execution_count": 41,
   "metadata": {},
   "outputs": [
    {
     "name": "stdout",
     "output_type": "stream",
     "text": [
      "These are the example output results:  [1 0 0 1 0]\n",
      "These are the model input results:  [1 0 0 1 0]\n",
      "True\n",
      "None\n"
     ]
    }
   ],
   "source": [
    "# Test if the model in use is still behaving the same way\n",
    "# Compare the results on the example input's output with the model in use predicitons\n",
    "print(unitTest(newModel[0]))"
   ]
  }
 ],
 "metadata": {
  "kernelspec": {
   "display_name": "Python 3",
   "language": "python",
   "name": "python3"
  },
  "language_info": {
   "codemirror_mode": {
    "name": "ipython",
    "version": 3
   },
   "file_extension": ".py",
   "mimetype": "text/x-python",
   "name": "python",
   "nbconvert_exporter": "python",
   "pygments_lexer": "ipython3",
   "version": "3.7.6"
  }
 },
 "nbformat": 4,
 "nbformat_minor": 4
}
